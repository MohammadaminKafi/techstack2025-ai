{
 "cells": [
  {
   "cell_type": "markdown",
   "id": "35d4e5d3",
   "metadata": {},
   "source": [
    "# DeWatermark"
   ]
  },
  {
   "cell_type": "code",
   "execution_count": null,
   "id": "c37ae97c",
   "metadata": {},
   "outputs": [],
   "source": [
    "import cv2\n",
    "import numpy as np\n",
    "from math import log10\n",
    "import matplotlib.pyplot as plt"
   ]
  },
  {
   "cell_type": "code",
   "execution_count": null,
   "id": "3cc0f866",
   "metadata": {},
   "outputs": [],
   "source": [
    "def calculate_psnr(original, compared):\n",
    "    pass"
   ]
  },
  {
   "cell_type": "code",
   "execution_count": null,
   "id": "2a87aab5",
   "metadata": {},
   "outputs": [],
   "source": [
    "def dewatermark(watermarked, watermark):\n",
    "    pass"
   ]
  },
  {
   "cell_type": "code",
   "execution_count": null,
   "id": "2a680f38",
   "metadata": {},
   "outputs": [],
   "source": [
    "watermarked_path = \"./images_part1/watermarked.png\"\n",
    "watermark_path = \"./images_part1/iut.png\"\n",
    "original_path = \"./images_part1/original.png\"\n",
    "\n",
    "watermarked = cv2.imread(watermarked_path).astype(np.float32) / 255.0\n",
    "watermark = cv2.imread(watermark_path, cv2.IMREAD_UNCHANGED).astype(np.float32) / 255.0\n",
    "original = cv2.imread(original_path).astype(np.float32) / 255.0\n",
    "\n",
    "dewatermarked = original #dewatermark(watermarked, watermark)\n",
    "psnr_value = calculate_psnr(original, dewatermarked)\n",
    "\n",
    "plt.figure(figsize=(6, 6))\n",
    "plt.imshow(cv2.cvtColor(dewatermarked, cv2.COLOR_BGR2RGB))\n",
    "plt.title('Dewatermarked Image')\n",
    "plt.axis('off')\n",
    "plt.show()\n",
    "\n",
    "print(f\"PSNR between dewatermarked and original: {psnr_value:.2f} dB\")"
   ]
  }
 ],
 "metadata": {
  "kernelspec": {
   "display_name": "Python 3",
   "language": "python",
   "name": "python3"
  },
  "language_info": {
   "codemirror_mode": {
    "name": "ipython",
    "version": 3
   },
   "file_extension": ".py",
   "mimetype": "text/x-python",
   "name": "python",
   "nbconvert_exporter": "python",
   "pygments_lexer": "ipython3",
   "version": "3.13.5"
  }
 },
 "nbformat": 4,
 "nbformat_minor": 5
}
